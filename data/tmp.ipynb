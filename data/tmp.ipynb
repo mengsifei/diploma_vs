{
 "cells": [
  {
   "cell_type": "code",
   "execution_count": 1,
   "metadata": {},
   "outputs": [],
   "source": [
    "import pandas as pd"
   ]
  },
  {
   "cell_type": "code",
   "execution_count": 2,
   "metadata": {},
   "outputs": [
    {
     "data": {
      "text/plain": [
       "(17370, 9)"
      ]
     },
     "execution_count": 2,
     "metadata": {},
     "output_type": "execute_result"
    }
   ],
   "source": [
    "df = pd.read_csv(\"New Augmented_Dataset.csv\")\n",
    "df.shape"
   ]
  },
  {
   "cell_type": "code",
   "execution_count": 8,
   "metadata": {},
   "outputs": [
    {
     "data": {
      "text/plain": [
       "858"
      ]
     },
     "execution_count": 8,
     "metadata": {},
     "output_type": "execute_result"
    }
   ],
   "source": [
    "df['num_words'] = df.essay.apply(lambda x: len(x.split()))\n",
    "df['num_words'].max()"
   ]
  },
  {
   "cell_type": "code",
   "execution_count": 7,
   "metadata": {},
   "outputs": [
    {
     "name": "stdout",
     "output_type": "stream",
     "text": [
      "(0, 9)\n",
      "(0, 9)\n"
     ]
    }
   ],
   "source": [
    "import re\n",
    "def find_paragraphs(text):\n",
    "    paragraph_pattern = re.compile(r'\\n')\n",
    "    num_paragraphs = len(paragraph_pattern.findall(text)) + 1\n",
    "    return num_paragraphs\n",
    "df['num_paragraphs'] = df.essay.apply(find_paragraphs)\n",
    "print(df[(df['num_paragraphs'] < 3) & (df['Coherence and Cohesion'] > 4.0)].shape)\n",
    "print(df[(df['num_paragraphs'] > 8) & (df['Coherence and Cohesion'] > 4.0)].shape)"
   ]
  },
  {
   "cell_type": "code",
   "execution_count": 4,
   "metadata": {},
   "outputs": [],
   "source": [
    "df.loc[(df['num_paragraphs'] < 3) & (df['Coherence and Cohesion'] > 4.0), 'Coherence and Cohesion'] = 4.0\n",
    "df.loc[(df['num_paragraphs'] > 8) & (df['Coherence and Cohesion'] > 4.0), 'Coherence and Cohesion'] = 4.0"
   ]
  },
  {
   "cell_type": "code",
   "execution_count": 5,
   "metadata": {},
   "outputs": [],
   "source": [
    "df.to_csv('New Augmented_Dataset.csv', index=False)"
   ]
  }
 ],
 "metadata": {
  "kernelspec": {
   "display_name": "Python 3",
   "language": "python",
   "name": "python3"
  },
  "language_info": {
   "codemirror_mode": {
    "name": "ipython",
    "version": 3
   },
   "file_extension": ".py",
   "mimetype": "text/x-python",
   "name": "python",
   "nbconvert_exporter": "python",
   "pygments_lexer": "ipython3",
   "version": "3.11.9"
  }
 },
 "nbformat": 4,
 "nbformat_minor": 2
}
